{
  "cells": [
    {
      "cell_type": "markdown",
      "metadata": {},
      "source": "# Example: Quick EDA on sample data"
    },
    {
      "cell_type": "code",
      "execution_count": null,
      "metadata": {},
      "outputs": [],
      "source": "import pandas as pd\nimport matplotlib.pyplot as plt\n"
    },
    {
      "cell_type": "code",
      "execution_count": null,
      "metadata": {},
      "outputs": [],
      "source": "df = pd.read_csv('../../data/sample/sales.csv')\ndf.head()"
    },
    {
      "cell_type": "code",
      "execution_count": null,
      "metadata": {},
      "outputs": [],
      "source": "df.describe()"
    },
    {
      "cell_type": "code",
      "execution_count": null,
      "metadata": {},
      "outputs": [],
      "source": "df.groupby('product')['quantity'].sum().plot(kind='bar')"
    },
    {
      "cell_type": "markdown",
      "metadata": {},
      "source": "## Findings\n- Product A dominates quantity.\n- Region effects to be checked."
    }
  ],
  "metadata": {
    "kernelspec": {
      "display_name": "Python 3",
      "language": "python",
      "name": "python3"
    },
    "language_info": {
      "name": "python",
      "version": "3.x"
    }
  },
  "nbformat": 4,
  "nbformat_minor": 5
}