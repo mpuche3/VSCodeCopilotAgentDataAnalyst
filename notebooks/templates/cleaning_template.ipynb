{
  "cells": [
    {
      "cell_type": "markdown",
      "metadata": {},
      "source": "# Cleaning Template"
    },
    {
      "cell_type": "code",
      "execution_count": null,
      "metadata": {},
      "outputs": [],
      "source": "import pandas as pd\n"
    },
    {
      "cell_type": "markdown",
      "metadata": {},
      "source": "## Load"
    },
    {
      "cell_type": "code",
      "execution_count": null,
      "metadata": {},
      "outputs": [],
      "source": "df = pd.read_csv('../../data/sample/sales.csv')"
    },
    {
      "cell_type": "markdown",
      "metadata": {},
      "source": "## Fix Types"
    },
    {
      "cell_type": "code",
      "execution_count": null,
      "metadata": {},
      "outputs": [],
      "source": "df['date'] = pd.to_datetime(df['date'])"
    },
    {
      "cell_type": "markdown",
      "metadata": {},
      "source": "## Handle Nulls / Duplicates"
    },
    {
      "cell_type": "code",
      "execution_count": null,
      "metadata": {},
      "outputs": [],
      "source": "df = df.drop_duplicates()\n# df = df.fillna(...)"
    },
    {
      "cell_type": "markdown",
      "metadata": {},
      "source": "## Save"
    },
    {
      "cell_type": "code",
      "execution_count": null,
      "metadata": {},
      "outputs": [],
      "source": "df.to_csv('../../data/sample/sales_clean.csv', index=False)"
    },
    {
      "cell_type": "markdown",
      "metadata": {},
      "source": "## Notes\n- <Document major changes>"
    }
  ],
  "metadata": {
    "kernelspec": {
      "display_name": "Python 3",
      "language": "python",
      "name": "python3"
    },
    "language_info": {
      "name": "python",
      "version": "3.x"
    }
  },
  "nbformat": 4,
  "nbformat_minor": 5
}