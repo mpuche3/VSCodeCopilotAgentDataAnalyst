{
  "cells": [
    {
      "cell_type": "markdown",
      "metadata": {},
      "source": "# EDA Template\n\nUse this as a starting point. Fill sections and keep cells short."
    },
    {
      "cell_type": "markdown",
      "metadata": {},
      "source": "## Imports"
    },
    {
      "cell_type": "code",
      "execution_count": null,
      "metadata": {},
      "outputs": [],
      "source": "import pandas as pd\nimport matplotlib.pyplot as plt\n"
    },
    {
      "cell_type": "markdown",
      "metadata": {},
      "source": "## Load Data"
    },
    {
      "cell_type": "code",
      "execution_count": null,
      "metadata": {},
      "outputs": [],
      "source": "df = pd.read_csv('../../data/sample/sales.csv')\ndf.head()"
    },
    {
      "cell_type": "markdown",
      "metadata": {},
      "source": "## Quick Checks"
    },
    {
      "cell_type": "code",
      "execution_count": null,
      "metadata": {},
      "outputs": [],
      "source": "df.info()"
    },
    {
      "cell_type": "markdown",
      "metadata": {},
      "source": "## Summary Stats"
    },
    {
      "cell_type": "code",
      "execution_count": null,
      "metadata": {},
      "outputs": [],
      "source": "df.describe(include='all')"
    },
    {
      "cell_type": "markdown",
      "metadata": {},
      "source": "## Visuals"
    },
    {
      "cell_type": "code",
      "execution_count": null,
      "metadata": {},
      "outputs": [],
      "source": "df.groupby('product')['quantity'].sum().plot(kind='bar')"
    },
    {
      "cell_type": "markdown",
      "metadata": {},
      "source": "## Findings\n\n- <Add key findings here>"
    }
  ],
  "metadata": {
    "kernelspec": {
      "display_name": "Python 3",
      "language": "python",
      "name": "python3"
    },
    "language_info": {
      "name": "python",
      "version": "3.x"
    }
  },
  "nbformat": 4,
  "nbformat_minor": 5
}